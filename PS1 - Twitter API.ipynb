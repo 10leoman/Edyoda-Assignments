{
 "cells": [
  {
   "cell_type": "code",
   "execution_count": 30,
   "metadata": {},
   "outputs": [],
   "source": [
    "#pip install yweather"
   ]
  },
  {
   "cell_type": "code",
   "execution_count": 29,
   "metadata": {},
   "outputs": [],
   "source": [
    "#pip install tweepy"
   ]
  },
  {
   "cell_type": "markdown",
   "metadata": {},
   "source": [
    " Consumer API Key: bLbhWHaGyDejsaH5HyTT8vkgc\n",
    " Consumer Secret Key: pLz7DsI0xMenRXmGGRZuEdZpH8MXvEBlyTwaMNcspdSIDeidcX\n",
    " Bearer Token: AAAAAAAAAAAAAAAAAAAAAOXrSgEAAAAAcRipWPoWO4chNtrhTtlO0qTAvvg%3DCbeE9hdttLczroY6qkjuoYqBm1yNmXj0v844U2cwkeuh2xTEKJ\n",
    " \n",
    " Access token : 449464005-jlJPSIJleRKyi11tYClzFNLFOXcm9mMMjVVAThcI\n",
    " Access secret token = 1mo9dT7UP7VEbhAMwkF87xDcupHJPRqC69egRfP3BPDWJ"
   ]
  },
  {
   "cell_type": "code",
   "execution_count": 65,
   "metadata": {},
   "outputs": [],
   "source": []
  },
  {
   "cell_type": "code",
   "execution_count": 98,
   "metadata": {},
   "outputs": [
    {
     "name": "stdout",
     "output_type": "stream",
     "text": [
      "Trend Name: #KabulHasFallen\n",
      "Number of tweets: 42346\n",
      "\n",
      "Trend Name: #Afghanistan\n",
      "Number of tweets: 963941\n",
      "\n",
      "Trend Name: #Afghanistan\n",
      "Number of tweets: 963941\n",
      "\n",
      "Trend Name: #AtalBihariVajpayee\n",
      "Number of tweets: 21481\n",
      "\n",
      "Trend Name: #लवणासुर_जयंती\n",
      "Number of tweets: None\n",
      "\n",
      "Trend Name: Demand\n",
      "Number of tweets: 111854\n",
      "\n",
      "Trend Name: Mission Justice For SSR\n",
      "Number of tweets: 80902\n",
      "\n",
      "Trend Name: Sharia\n",
      "Number of tweets: 81080\n",
      "\n",
      "Trend Name: भारत रत्न\n",
      "Number of tweets: 41892\n",
      "\n",
      "Trend Name: Indian Muslims\n",
      "Number of tweets: 15880\n",
      "\n"
     ]
    }
   ],
   "source": [
    "#we are using the tweepy module to connect to twitter api\n",
    "import tweepy\n",
    "\n",
    "consumer_key = 'KOi9z0sp4TWlmGIG8LBiwb31l'\n",
    "consumer_secret = 'kdFygsYrUhgY3pSQ6rdQfeenh6JWJivH1YL34IlCPEfMqTYryz'\n",
    "\n",
    "access_token = '449464005-jlJPSIJleRKyi11tYClzFNLFOXcm9mMMjVVAThcI'\n",
    "access_secret = '1mo9dT7UP7VEbhAMwkF87xDcupHJPRqC69egRfP3BPDWJ'\n",
    "\n",
    "\n",
    "callback_uri = 'oob' # https://cfe.sh/twitter/callback\n",
    "auth = tweepy.OAuthHandler(consumer_key,consumer_secret, callback_uri)\n",
    "redirect_url = auth.get_authorization_url()\n",
    "auth.set_access_token(access_token, access_secret)\n",
    "api = tweepy.API(auth)\n",
    "#where on earth id for india as found on yahoo page!\n",
    "woeid_india = 23424848\n",
    "trend_result = api.trends_place(woeid_india)\n",
    "for trend in trend_result[0]['trends'][:10]:\n",
    "    print('Trend Name:', trend['name'])\n",
    "    print('Number of tweets:', trend['tweet_volume'])\n",
    "    print()"
   ]
  },
  {
   "cell_type": "code",
   "execution_count": 96,
   "metadata": {},
   "outputs": [],
   "source": [
    "#Here we have got the top 10 twitter trending topics using only a few lines of code! Amazing!"
   ]
  },
  {
   "cell_type": "code",
   "execution_count": null,
   "metadata": {},
   "outputs": [],
   "source": []
  }
 ],
 "metadata": {
  "kernelspec": {
   "display_name": "Python 3",
   "language": "python",
   "name": "python3"
  },
  "language_info": {
   "codemirror_mode": {
    "name": "ipython",
    "version": 3
   },
   "file_extension": ".py",
   "mimetype": "text/x-python",
   "name": "python",
   "nbconvert_exporter": "python",
   "pygments_lexer": "ipython3",
   "version": "3.9.0"
  }
 },
 "nbformat": 4,
 "nbformat_minor": 4
}
